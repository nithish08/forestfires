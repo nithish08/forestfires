{
 "cells": [
  {
   "cell_type": "code",
   "execution_count": 1,
   "metadata": {},
   "outputs": [],
   "source": [
    "import pandas as pd\n",
    "import numpy as np"
   ]
  },
  {
   "cell_type": "code",
   "execution_count": 2,
   "metadata": {},
   "outputs": [],
   "source": [
    "df = pd.read_csv('../input/forestfires.csv')"
   ]
  },
  {
   "cell_type": "code",
   "execution_count": 24,
   "metadata": {},
   "outputs": [],
   "source": [
    "with open('../input/forestfires.names','rb') as f:\n",
    "    page = f.read().decode('latin-1')\n",
    "    "
   ]
  },
  {
   "cell_type": "markdown",
   "metadata": {},
   "source": [
    "## Dataset Description"
   ]
  },
  {
   "cell_type": "markdown",
   "metadata": {},
   "source": [
    "The dataset is about forest fire data of Montesinho natural park. This park is in Northeast region of Portugal."
   ]
  },
  {
   "cell_type": "code",
   "execution_count": 26,
   "metadata": {},
   "outputs": [
    {
     "name": "stdout",
     "output_type": "stream",
     "text": [
      "Citation Request:\n",
      "  This dataset is public available for research. The details are described in [Cortez and Morais, 2007]. \n",
      "  Please include this citation if you plan to use this database:\n",
      "\n",
      "  P. Cortez and A. Morais. A Data Mining Approach to Predict Forest Fires using Meteorological Data. \n",
      "  In J. Neves, M. F. Santos and J. Machado Eds., New Trends in Artificial Intelligence, \n",
      "  Proceedings of the 13th EPIA 2007 - Portuguese Conference on Artificial Intelligence, December, \n",
      "  Guimaraes, Portugal, pp. 512-523, 2007. APPIA, ISBN-13 978-989-95618-0-9. \n",
      "  Available at: http://www.dsi.uminho.pt/~pcortez/fires.pdf\n",
      "\n",
      "1. Title: Forest Fires\n",
      "\n",
      "2. Sources\n",
      "   Created by: Paulo Cortez and Aníbal Morais (Univ. Minho) @ 2007\n",
      "   \n",
      "3. Past Usage:\n",
      "\n",
      "   P. Cortez and A. Morais. A Data Mining Approach to Predict Forest Fires using Meteorological Data.\n",
      "   In Proceedings of the 13th EPIA 2007 - Portuguese Conference on Artificial Intelligence, \n",
      "   December, 2007. (http://www.dsi.uminho.pt/~pcortez/fires.pdf)\n",
      "   \n",
      "   In the above reference, the output \"area\" was first transformed with a ln(x+1) function.\n",
      "   Then, several Data Mining methods were applied. After fitting the models, the outputs were\n",
      "   post-processed with the inverse of the ln(x+1) transform. Four different input setups were\n",
      "   used. The experiments were conducted using a 10-fold (cross-validation) x 30 runs. Two\n",
      "   regression metrics were measured: MAD and RMSE. A Gaussian support vector machine (SVM) fed\n",
      "   with only 4 direct weather conditions (temp, RH, wind and rain) obtained the best MAD value:\n",
      "   12.71 +- 0.01 (mean and confidence interval within 95% using a t-student distribution). The\n",
      "   best RMSE was attained by the naive mean predictor. An analysis to the regression error curve\n",
      "   (REC) shows that the SVM model predicts more examples within a lower admitted error. In effect,\n",
      "   the SVM model predicts better small fires, which are the majority. \n",
      " \n",
      "4. Relevant Information:\n",
      "\n",
      "   This is a very difficult regression task. It can be used to test regression methods. Also,\n",
      "   it could be used to test outlier detection methods, since it is not clear how many outliers\n",
      "   are there. Yet, the number of examples of fires with a large burned area is very small.\n",
      "\n",
      "5. Number of Instances: 517 \n",
      "\n",
      "6. Number of Attributes: 12 + output attribute\n",
      "  \n",
      "   Note: several of the attributes may be correlated, thus it makes sense to apply some sort of\n",
      "   feature selection.\n",
      "\n",
      "7. Attribute information:\n",
      "\n",
      "   For more information, read [Cortez and Morais, 2007].\n",
      "\n",
      "   1. X - x-axis spatial coordinate within the Montesinho park map: 1 to 9\n",
      "   2. Y - y-axis spatial coordinate within the Montesinho park map: 2 to 9\n",
      "   3. month - month of the year: \"jan\" to \"dec\" \n",
      "   4. day - day of the week: \"mon\" to \"sun\"\n",
      "   5. FFMC - FFMC index from the FWI system: 18.7 to 96.20\n",
      "   6. DMC - DMC index from the FWI system: 1.1 to 291.3 \n",
      "   7. DC - DC index from the FWI system: 7.9 to 860.6 \n",
      "   8. ISI - ISI index from the FWI system: 0.0 to 56.10\n",
      "   9. temp - temperature in Celsius degrees: 2.2 to 33.30\n",
      "   10. RH - relative humidity in %: 15.0 to 100\n",
      "   11. wind - wind speed in km/h: 0.40 to 9.40 \n",
      "   12. rain - outside rain in mm/m2 : 0.0 to 6.4 \n",
      "   13. area - the burned area of the forest (in ha): 0.00 to 1090.84 \n",
      "   (this output variable is very skewed towards 0.0, thus it may make\n",
      "    sense to model with the logarithm transform). \n",
      "\n",
      "8. Missing Attribute Values: None\n",
      "\n"
     ]
    }
   ],
   "source": [
    "print(page)"
   ]
  },
  {
   "cell_type": "markdown",
   "metadata": {},
   "source": [
    "## Response Variable Detection"
   ]
  },
  {
   "cell_type": "code",
   "execution_count": null,
   "metadata": {},
   "outputs": [],
   "source": [
    "1. X - x-axis spatial coordinate within the Montesinho park map: 1 to 9\n",
    "2. Y - y-axis spatial coordinate within the Montesinho park map: 2 to 9\n",
    "3. month - month of the year: \"jan\" to \"dec\" \n",
    "4. day - day of the week: \"mon\" to \"sun\"\n",
    "5. FFMC - FFMC index from the FWI system: 18.7 to 96.20\n",
    "6. DMC - DMC index from the FWI system: 1.1 to 291.3 \n",
    "7. DC - DC index from the FWI system: 7.9 to 860.6 \n",
    "8. ISI - ISI index from the FWI system: 0.0 to 56.10\n",
    "9. temp - temperature in Celsius degrees: 2.2 to 33.30\n",
    "10. RH - relative humidity in %: 15.0 to 100\n",
    "11. wind - wind speed in km/h: 0.40 to 9.40 \n",
    "12. rain - outside rain in mm/m2 : 0.0 to 6.4 \n",
    "    "
   ]
  },
  {
   "cell_type": "markdown",
   "metadata": {},
   "source": [
    "## Reponse variable"
   ]
  },
  {
   "cell_type": "markdown",
   "metadata": {},
   "source": [
    "area - the burned area of the forest (in ha): 0.00 to 1090.84  (Continuous response)"
   ]
  }
 ],
 "metadata": {
  "kernelspec": {
   "display_name": "Python 3",
   "language": "python",
   "name": "python3"
  },
  "language_info": {
   "codemirror_mode": {
    "name": "ipython",
    "version": 3
   },
   "file_extension": ".py",
   "mimetype": "text/x-python",
   "name": "python",
   "nbconvert_exporter": "python",
   "pygments_lexer": "ipython3",
   "version": "3.6.8"
  },
  "latex_envs": {
   "LaTeX_envs_menu_present": true,
   "autoclose": false,
   "autocomplete": true,
   "bibliofile": "biblio.bib",
   "cite_by": "apalike",
   "current_citInitial": 1,
   "eqLabelWithNumbers": true,
   "eqNumInitial": 1,
   "hotkeys": {
    "equation": "Ctrl-E",
    "itemize": "Ctrl-I"
   },
   "labels_anchors": false,
   "latex_user_defs": false,
   "report_style_numbering": false,
   "user_envs_cfg": false
  },
  "toc": {
   "base_numbering": 1,
   "nav_menu": {},
   "number_sections": true,
   "sideBar": true,
   "skip_h1_title": false,
   "title_cell": "Table of Contents",
   "title_sidebar": "Contents",
   "toc_cell": false,
   "toc_position": {},
   "toc_section_display": true,
   "toc_window_display": false
  }
 },
 "nbformat": 4,
 "nbformat_minor": 2
}
